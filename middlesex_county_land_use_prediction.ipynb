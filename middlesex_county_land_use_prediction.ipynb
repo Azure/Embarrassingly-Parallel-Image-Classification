{
 "cells": [
  {
   "cell_type": "markdown",
   "metadata": {},
   "source": [
    "# Middlesex County Land Use Prediction\n",
    "\n",
    "This notebook illustrates how trained Cognitive Toolkit (CNTK) and TensorFlow models can be applied to predict current land usage from recent aerial imagery. For more detail on image set creation, model training, and Spark cluster deployment, please see the rest of the [Embarrassingly Parallel Image Classification](https://github.com/Azure/Embarrassingly-Parallel-Image-Classification) repository.\n",
    "\n",
    "<img src=\"./img/data_overview/middlesex_ma.png\" />\n",
    "\n",
    "## Image preparation and labeling\n",
    "\n",
    "We have used National Land Cover Database (NLCD) data for our ground truth labels during model training and evaluation. The most recent NLCD dataset was published in 2011, but aerial images from the National Agriculture Imagery Program (NAIP) are available for 2016. Our trained models therefore allow us to bridge a five-year data gap by predicting land use in 2016.\n",
    "\n",
    "To demonstrate this approach, we extracted a set of 65,563 images tiling Middlesex County, MA (home to Microsoft's New England Research and Development Center) at one-meter resolution from 2010 and 2016 NAIP data as [described previously](https://github.com/Azure/Embarrassingly-Parallel-Image-Classification/blob/master/image_set_preparation.ipynb). Note that unlike the image set used in training and evaluation, some of these images have ambiguous land use types: for example, they may depict the boundary between a forest and developed land. These images were then scored with [trained CNTK and Tensorflow land use classification models](https://github.com/Azure/Embarrassingly-Parallel-Image-Classification/blob/master/model_training.ipynb) applied in [parallel fashion using Spark](https://github.com/Azure/Embarrassingly-Parallel-Image-Classification/blob/master/scoring_on_spark.ipynb). Both models performed similarly; results for the CNTK model are shown.\n",
    "\n",
    "For those unfamiliar with the region, we include below an aerial view of a 80 km x 70km region covering the county. The Greater Boston Area is centered along the ESE border of the county and extends through all but the northernmost regions.\n",
    "<img src=\"./img/data_overview/mediumnaip_white.png\" width=\"500px\" />"
   ]
  },
  {
   "cell_type": "markdown",
   "metadata": {},
   "source": [
    "## Visualizing land use\n",
    "\n",
    "To visualize the results, we represent the labels of each 224 m x 224 m tile with a single color-coded pixel:\n",
    "- Red represents developed regions (NLCD codes 21-24; see [legend](https://www.mrlc.gov/nlcd11_leg.php))\n",
    "- White represents cultivated regions (NLCD codes 81-82)\n",
    "- Green represents undeveloped and uncultivated regions (all other NLCD codes)\n",
    "\n",
    "At left, the plurality NLCD 2011 label is shown for each tile. (NLCD data is provided at 30-meter resolution, so any tile may contain multiple land use labels.) The predicted labels for each tile in 2010 (most directly comparable to the NLCD labels) and 2016 (most recent available) are shown at center and right, respectively."
   ]
  },
  {
   "cell_type": "markdown",
   "metadata": {},
   "source": [
    "<img src=\"./img/middlesex/true_and_predicted_labels.png\"/>\n",
    "\n",
    "We found a striking correspondence between true and predicted labels at both timepoints. An uptick in the fraction of developed land was observed between 2010 and 2016 (see table below), but we believe this change is attributable in large part to the impact of image coloration and vegetation differences (e.g. browning in drought conditions) on labeling. Some systematic errors are noticable in the predictions, including the apparent mislabeling of some highways as cultivated land (white lines in 2016 image).\n",
    "\n",
    "|   \t|No. developed tiles   \t|No. cultivated tiles (%)   \t|No. undeveloped tiles  \t|\n",
    "|---\t|---\t|---\t|---\t|\n",
    "|NLCD 2011 labels   \t|28,537 (43.5%)   \t|2,337 (3.6%)   \t|34,689 (52.9%)   \t|\n",
    "|2010 predicted labels   \t|27,584 (42.1%)   \t|941 (1.4%)   \t|37,038 (56.4%)   \t|\n",
    "|2016 predicted labels   \t|28,911 (44.1%)   \t|4,011 (6.1%)   \t|32,641 (49.8%)   \t|\n",
    "\n",
    "For the purposes of mapping and quantifying land use, it may be preferable to discount isolated patches of differing land use. For example, an urban park may not be considered undeveloped land for the purposes of habit conservation, and construction of a rural homestead may not indicate substantial development in an otherwise cultivated region. We note that isolated tiles of land use can be removed by applying a 3x3 plurality-voting filter (with added weight for the center tile's own predicted label) to the raw predictions:\n",
    "\n",
    "<img src=\"./img/middlesex/true_and_predicted_labels_smoothened.png\"/>\n"
   ]
  },
  {
   "cell_type": "markdown",
   "metadata": {},
   "source": [
    "## Identifying newly developed regions\n",
    "\n",
    "The ability to identify programmatically identify new development and cultivation in remote areas may be useful to government agencies that regulate housing and commerce, e.g. to identify tax evasion. By comparing our 2016 predicted labels to the 2011 NLCD tile labels, we were able to identify ~400 tiles putatively undergoing new development in the last five years. A few examples (including bordering tiles for context) are shown below:\n",
    "\n",
    "<img src=\"./img/middlesex/33308.png\"/>\n",
    "<img src=\"./img/middlesex/36083.png\"/>\n",
    "<img src=\"./img/middlesex/47331.png\"/>"
   ]
  },
  {
   "cell_type": "markdown",
   "metadata": {},
   "source": [
    "In some cases, our land use classifier was sensitive enough to identify the development of single properties within a tile:\n",
    "\n",
    "<img src=\"./img/middlesex/20655.png\"/>\n",
    "<img src=\"./img/middlesex/37002.png\"/>"
   ]
  },
  {
   "cell_type": "markdown",
   "metadata": {},
   "source": [
    "A visual comparison of the ~400 candidate tiles in 2010 vs. 2016 NAIP images reveals that roughly one-third have truly been developed; the false positives may reflect differences in lighting and drought conditions between the 2016 images and the training data."
   ]
  }
 ],
 "metadata": {
  "anaconda-cloud": {},
  "kernelspec": {
   "display_name": "Python [conda env:python35]",
   "language": "python",
   "name": "conda-env-python35-py"
  },
  "language_info": {
   "codemirror_mode": {
    "name": "ipython",
    "version": 3
   },
   "file_extension": ".py",
   "mimetype": "text/x-python",
   "name": "python",
   "nbconvert_exporter": "python",
   "pygments_lexer": "ipython3",
   "version": "3.5.2"
  }
 },
 "nbformat": 4,
 "nbformat_minor": 1
}
