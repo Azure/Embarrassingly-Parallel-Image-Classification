{
 "cells": [
  {
   "cell_type": "markdown",
   "metadata": {},
   "source": [
    "# Training CNTK and TensorFlow models for image classification\n",
    "\n",
    "## Outline\n",
    "- [Provision an Azure N-Series GPU Deep Learning VM](#provision)\n",
    "- [Partition the image set for training and evaluation](#partition)\n",
    "- [Microsoft Cognitive Toolkit](#cntk)\n",
    "   - [Training an 18-layer ResNet model](#cntktrain)\n",
    "- [TensorFlow](#tensorflow)\n"
   ]
  }
 ],
 "metadata": {
  "anaconda-cloud": {},
  "kernelspec": {
   "display_name": "Python [conda env:python35]",
   "language": "python",
   "name": "conda-env-python35-py"
  },
  "language_info": {
   "codemirror_mode": {
    "name": "ipython",
    "version": 3
   },
   "file_extension": ".py",
   "mimetype": "text/x-python",
   "name": "python",
   "nbconvert_exporter": "python",
   "pygments_lexer": "ipython3",
   "version": "3.5.2"
  }
 },
 "nbformat": 4,
 "nbformat_minor": 1
}
